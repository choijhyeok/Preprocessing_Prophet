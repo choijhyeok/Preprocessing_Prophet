{
 "cells": [
  {
   "cell_type": "code",
   "execution_count": 10,
   "id": "de1be2d3-9f62-4167-ab56-9f18c43bf649",
   "metadata": {},
   "outputs": [],
   "source": [
    "import tarfile\n",
    "import os\n",
    "def make_tarfile(output_filename, source_dir):\n",
    "    with tarfile.open(output_filename, \"w:gz\") as tar:\n",
    "        tar.add(source_dir, arcname='test.py')"
   ]
  },
  {
   "cell_type": "code",
   "execution_count": 11,
   "id": "c2bd8e17-c5cd-4c3b-952a-2dd2f6aed272",
   "metadata": {},
   "outputs": [],
   "source": [
    "make_tarfile('test.tar.gz','train.py')"
   ]
  },
  {
   "cell_type": "code",
   "execution_count": 5,
   "id": "dbb9dddd-b77c-4ebd-89d5-9209a44de012",
   "metadata": {},
   "outputs": [
    {
     "data": {
      "text/plain": [
       "'/Users/jaehyeokchoi/Desktop/helpme/sprint 7/prophet_docker_data_setting/processing/preprocessing_'"
      ]
     },
     "execution_count": 5,
     "metadata": {},
     "output_type": "execute_result"
    }
   ],
   "source": [
    "os.getcwd()"
   ]
  },
  {
   "cell_type": "code",
   "execution_count": 7,
   "id": "97ccb2ce-c7a2-4214-906c-45e95230c2b7",
   "metadata": {},
   "outputs": [
    {
     "data": {
      "text/plain": [
       "'preprocessing_'"
      ]
     },
     "execution_count": 7,
     "metadata": {},
     "output_type": "execute_result"
    }
   ],
   "source": [
    "os.path.basename(os.getcwd())"
   ]
  },
  {
   "cell_type": "code",
   "execution_count": null,
   "id": "049d37b8-b8a9-4eaa-a3af-4146ee136eaa",
   "metadata": {},
   "outputs": [],
   "source": []
  }
 ],
 "metadata": {
  "kernelspec": {
   "display_name": "pchois",
   "language": "python",
   "name": "pchois"
  },
  "language_info": {
   "codemirror_mode": {
    "name": "ipython",
    "version": 3
   },
   "file_extension": ".py",
   "mimetype": "text/x-python",
   "name": "python",
   "nbconvert_exporter": "python",
   "pygments_lexer": "ipython3",
   "version": "3.8.12"
  }
 },
 "nbformat": 4,
 "nbformat_minor": 5
}
